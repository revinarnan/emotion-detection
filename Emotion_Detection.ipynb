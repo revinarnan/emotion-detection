{
  "nbformat": 4,
  "nbformat_minor": 0,
  "metadata": {
    "colab": {
      "name": "Emotion Detection.ipynb",
      "provenance": [],
      "collapsed_sections": [],
      "authorship_tag": "ABX9TyPB5lwLKqbE7/PuTF1CeWRH",
      "include_colab_link": true
    },
    "kernelspec": {
      "name": "python3",
      "display_name": "Python 3"
    },
    "language_info": {
      "name": "python"
    }
  },
  "cells": [
    {
      "cell_type": "markdown",
      "metadata": {
        "id": "view-in-github",
        "colab_type": "text"
      },
      "source": [
        "<a href=\"https://colab.research.google.com/github/revinarnan/emotion-detection/blob/main/Emotion_Detection.ipynb\" target=\"_parent\"><img src=\"https://colab.research.google.com/assets/colab-badge.svg\" alt=\"Open In Colab\"/></a>"
      ]
    },
    {
      "cell_type": "markdown",
      "source": [
        "#Tugas Individu NLP - Sentiment Analysis\n",
        "## Emotion Detection from Sample Tweets\n",
        "\n",
        "**Muhammad Revin Arnan   18/429075/TK/47577**"
      ],
      "metadata": {
        "id": "i8UXmpJN6Kav"
      }
    },
    {
      "cell_type": "code",
      "source": [
        "#Import library untuk persiapan data\n",
        "from pprint import pprint\n",
        "!pip install emoji\n",
        "\n",
        "import re\n",
        "import time\n",
        "import emoji\n",
        "import matplotlib.pyplot as plt\n",
        "import numpy as np\n",
        "import seaborn as sns\n",
        "import pandas as pd\n",
        "%matplotlib inline\n",
        "\n",
        "import warnings\n",
        "warnings.filterwarnings(\"ignore\")"
      ],
      "metadata": {
        "id": "MtRvNxfhUi3k",
        "colab": {
          "base_uri": "https://localhost:8080/"
        },
        "outputId": "7adf7ebe-df35-4400-bbcf-d848b8b0c6fd"
      },
      "execution_count": null,
      "outputs": [
        {
          "output_type": "stream",
          "name": "stdout",
          "text": [
            "Requirement already satisfied: emoji in /usr/local/lib/python3.7/dist-packages (1.6.1)\n"
          ]
        }
      ]
    },
    {
      "cell_type": "code",
      "source": [
        "from google.colab import drive\n",
        "drive.mount('/content/drive/', force_remount = True)"
      ],
      "metadata": {
        "colab": {
          "base_uri": "https://localhost:8080/"
        },
        "id": "sThn0UGqV221",
        "outputId": "9bbcb15b-38c6-4825-da6f-3b35305b3291"
      },
      "execution_count": null,
      "outputs": [
        {
          "output_type": "stream",
          "name": "stdout",
          "text": [
            "Mounted at /content/drive/\n"
          ]
        }
      ]
    },
    {
      "cell_type": "code",
      "source": [
        "dataset = '/content/drive/My Drive/emotion-labels-train.csv'\n",
        "data = pd.read_csv(dataset)\n",
        "data"
      ],
      "metadata": {
        "colab": {
          "base_uri": "https://localhost:8080/",
          "height": 423
        },
        "id": "uw8yRd1CarT4",
        "outputId": "0ceac1b1-fc86-49f2-b2a2-381903444636"
      },
      "execution_count": null,
      "outputs": [
        {
          "output_type": "execute_result",
          "data": {
            "text/html": [
              "<div>\n",
              "<style scoped>\n",
              "    .dataframe tbody tr th:only-of-type {\n",
              "        vertical-align: middle;\n",
              "    }\n",
              "\n",
              "    .dataframe tbody tr th {\n",
              "        vertical-align: top;\n",
              "    }\n",
              "\n",
              "    .dataframe thead th {\n",
              "        text-align: right;\n",
              "    }\n",
              "</style>\n",
              "<table border=\"1\" class=\"dataframe\">\n",
              "  <thead>\n",
              "    <tr style=\"text-align: right;\">\n",
              "      <th></th>\n",
              "      <th>text</th>\n",
              "      <th>label</th>\n",
              "    </tr>\n",
              "  </thead>\n",
              "  <tbody>\n",
              "    <tr>\n",
              "      <th>0</th>\n",
              "      <td>Just got back from seeing @GaryDelaney in Burs...</td>\n",
              "      <td>joy</td>\n",
              "    </tr>\n",
              "    <tr>\n",
              "      <th>1</th>\n",
              "      <td>Oh dear an evening of absolute hilarity I don'...</td>\n",
              "      <td>joy</td>\n",
              "    </tr>\n",
              "    <tr>\n",
              "      <th>2</th>\n",
              "      <td>Been waiting all week for this game ❤️❤️❤️ #ch...</td>\n",
              "      <td>joy</td>\n",
              "    </tr>\n",
              "    <tr>\n",
              "      <th>3</th>\n",
              "      <td>@gardiner_love : Thank you so much, Gloria! Yo...</td>\n",
              "      <td>joy</td>\n",
              "    </tr>\n",
              "    <tr>\n",
              "      <th>4</th>\n",
              "      <td>I feel so blessed to work with the family that...</td>\n",
              "      <td>joy</td>\n",
              "    </tr>\n",
              "    <tr>\n",
              "      <th>...</th>\n",
              "      <td>...</td>\n",
              "      <td>...</td>\n",
              "    </tr>\n",
              "    <tr>\n",
              "      <th>3608</th>\n",
              "      <td>@VivienLloyd Thank you so much! Just home - st...</td>\n",
              "      <td>sadness</td>\n",
              "    </tr>\n",
              "    <tr>\n",
              "      <th>3609</th>\n",
              "      <td>Just put the winter duvet on ☃️❄️🌬☔️</td>\n",
              "      <td>sadness</td>\n",
              "    </tr>\n",
              "    <tr>\n",
              "      <th>3610</th>\n",
              "      <td>@SilkInSide @TommyJoeRatliff that's so pretty!...</td>\n",
              "      <td>sadness</td>\n",
              "    </tr>\n",
              "    <tr>\n",
              "      <th>3611</th>\n",
              "      <td>@BluesfestByron second artist announcement loo...</td>\n",
              "      <td>sadness</td>\n",
              "    </tr>\n",
              "    <tr>\n",
              "      <th>3612</th>\n",
              "      <td>I can literally eat creamy pesto pasta topped ...</td>\n",
              "      <td>sadness</td>\n",
              "    </tr>\n",
              "  </tbody>\n",
              "</table>\n",
              "<p>3613 rows × 2 columns</p>\n",
              "</div>"
            ],
            "text/plain": [
              "                                                   text    label\n",
              "0     Just got back from seeing @GaryDelaney in Burs...      joy\n",
              "1     Oh dear an evening of absolute hilarity I don'...      joy\n",
              "2     Been waiting all week for this game ❤️❤️❤️ #ch...      joy\n",
              "3     @gardiner_love : Thank you so much, Gloria! Yo...      joy\n",
              "4     I feel so blessed to work with the family that...      joy\n",
              "...                                                 ...      ...\n",
              "3608  @VivienLloyd Thank you so much! Just home - st...  sadness\n",
              "3609              Just put the winter duvet on ☃️❄️🌬☔️   sadness\n",
              "3610  @SilkInSide @TommyJoeRatliff that's so pretty!...  sadness\n",
              "3611  @BluesfestByron second artist announcement loo...  sadness\n",
              "3612  I can literally eat creamy pesto pasta topped ...  sadness\n",
              "\n",
              "[3613 rows x 2 columns]"
            ]
          },
          "metadata": {},
          "execution_count": 3
        }
      ]
    },
    {
      "cell_type": "markdown",
      "source": [
        "# Explore Dataset"
      ],
      "metadata": {
        "id": "xRli1FN97noS"
      }
    },
    {
      "cell_type": "code",
      "source": [
        "#Check missing value\n",
        "data.isnull().sum()"
      ],
      "metadata": {
        "colab": {
          "base_uri": "https://localhost:8080/"
        },
        "id": "EDGzLklHZ_tb",
        "outputId": "5d824c41-f084-4954-b462-055edf867fe2"
      },
      "execution_count": null,
      "outputs": [
        {
          "output_type": "execute_result",
          "data": {
            "text/plain": [
              "text     0\n",
              "label    0\n",
              "dtype: int64"
            ]
          },
          "metadata": {},
          "execution_count": 4
        }
      ]
    },
    {
      "cell_type": "code",
      "source": [
        "#Melihat informasi pada dataframe\n",
        "data.info()"
      ],
      "metadata": {
        "colab": {
          "base_uri": "https://localhost:8080/"
        },
        "id": "Gw9SFCO4blE5",
        "outputId": "619fe9d9-ab55-4c55-e2c9-a935aa7f16c8"
      },
      "execution_count": null,
      "outputs": [
        {
          "output_type": "stream",
          "name": "stdout",
          "text": [
            "<class 'pandas.core.frame.DataFrame'>\n",
            "RangeIndex: 3613 entries, 0 to 3612\n",
            "Data columns (total 2 columns):\n",
            " #   Column  Non-Null Count  Dtype \n",
            "---  ------  --------------  ----- \n",
            " 0   text    3613 non-null   object\n",
            " 1   label   3613 non-null   object\n",
            "dtypes: object(2)\n",
            "memory usage: 56.6+ KB\n"
          ]
        }
      ]
    },
    {
      "cell_type": "code",
      "source": [
        "data.shape"
      ],
      "metadata": {
        "colab": {
          "base_uri": "https://localhost:8080/"
        },
        "id": "icbkCapobsHH",
        "outputId": "215f603f-a606-4020-9af8-0b9baeb09d44"
      },
      "execution_count": null,
      "outputs": [
        {
          "output_type": "execute_result",
          "data": {
            "text/plain": [
              "(3613, 2)"
            ]
          },
          "metadata": {},
          "execution_count": 6
        }
      ]
    },
    {
      "cell_type": "code",
      "source": [
        "#Jumlah data unik pada kolom text lebih sedikit \n",
        "#dengan record yang ada, artinya ada duplikasi record\n",
        "data.text.nunique()"
      ],
      "metadata": {
        "colab": {
          "base_uri": "https://localhost:8080/"
        },
        "id": "9w4v4a6eb0up",
        "outputId": "acd97cce-297f-4ad2-813a-24f0ad86e614"
      },
      "execution_count": null,
      "outputs": [
        {
          "output_type": "execute_result",
          "data": {
            "text/plain": [
              "3565"
            ]
          },
          "metadata": {},
          "execution_count": 7
        }
      ]
    },
    {
      "cell_type": "markdown",
      "source": [
        "#Cleaning"
      ],
      "metadata": {
        "id": "gM3SoMXa8lv6"
      }
    },
    {
      "cell_type": "code",
      "source": [
        "#Menghapus record yang terduplikasi\n",
        "data = data.drop_duplicates(subset='text').reset_index(drop=True)\n",
        "data.shape"
      ],
      "metadata": {
        "colab": {
          "base_uri": "https://localhost:8080/"
        },
        "id": "beY2yiMNb57L",
        "outputId": "b52e8e3c-f3f7-4b97-eef4-c9fc258f539d"
      },
      "execution_count": null,
      "outputs": [
        {
          "output_type": "execute_result",
          "data": {
            "text/plain": [
              "(3565, 2)"
            ]
          },
          "metadata": {},
          "execution_count": 8
        }
      ]
    },
    {
      "cell_type": "code",
      "source": [
        "#Fungsi untuk membersihkan teks, dengan regex menghilangkan username twitter (@username)\n",
        "#Merubah emoji menjadi teks, dan menghilangkan special character\n",
        "def clean_text(text):\n",
        "  text = re.sub(r'@\\w+', '', text)\n",
        "  text = re.sub(r'&\\w+;', '', text)\n",
        "  text = re.sub(r'\\n', ' ', text)\n",
        "  text = text.lower()\n",
        "  text = emoji.demojize(text, delimiters=(' ', ' '))\n",
        "  text = re.sub(r'[^a-z_]', ' ', text)\n",
        "\n",
        "  return text"
      ],
      "metadata": {
        "id": "MHXWz0SxeVDx"
      },
      "execution_count": null,
      "outputs": []
    },
    {
      "cell_type": "markdown",
      "source": [
        "#Data Pre-Processing"
      ],
      "metadata": {
        "id": "NT4Nh4WD9vmj"
      }
    },
    {
      "cell_type": "code",
      "source": [
        "import nltk\n",
        "nltk.download(['stopwords', 'punkt'])\n",
        "from nltk.corpus import stopwords\n",
        "from nltk.tokenize import word_tokenize"
      ],
      "metadata": {
        "colab": {
          "base_uri": "https://localhost:8080/"
        },
        "id": "hR6TWQ0ZjHI7",
        "outputId": "2680cdee-682a-4ca4-bfeb-4cff1a874e34"
      },
      "execution_count": null,
      "outputs": [
        {
          "output_type": "stream",
          "name": "stdout",
          "text": [
            "[nltk_data] Downloading package stopwords to /root/nltk_data...\n",
            "[nltk_data]   Package stopwords is already up-to-date!\n",
            "[nltk_data] Downloading package punkt to /root/nltk_data...\n",
            "[nltk_data]   Package punkt is already up-to-date!\n"
          ]
        }
      ]
    },
    {
      "cell_type": "code",
      "source": [
        "#Fungsi menghilangkan stopwords english dari text\n",
        "def removed_words(word):\n",
        "  filtered_words = []\n",
        "  stops = set(stopwords.words('english'))\n",
        "  stop_words = word_tokenize(word)\n",
        "  filtered_words.append(' '.join(w for w in stop_words if w not in stops))\n",
        "  \n",
        "  return ' '.join(filtered_words)"
      ],
      "metadata": {
        "id": "NBkDiwVQ98mW"
      },
      "execution_count": null,
      "outputs": []
    },
    {
      "cell_type": "code",
      "source": [
        "data['text'] = data['text'].apply([clean_text, removed_words])\n",
        "data.head()"
      ],
      "metadata": {
        "colab": {
          "base_uri": "https://localhost:8080/",
          "height": 206
        },
        "id": "G8SNrV2m-V6B",
        "outputId": "15ab9fae-0c30-4578-9695-575afb59b48f"
      },
      "execution_count": null,
      "outputs": [
        {
          "output_type": "execute_result",
          "data": {
            "text/html": [
              "<div>\n",
              "<style scoped>\n",
              "    .dataframe tbody tr th:only-of-type {\n",
              "        vertical-align: middle;\n",
              "    }\n",
              "\n",
              "    .dataframe tbody tr th {\n",
              "        vertical-align: top;\n",
              "    }\n",
              "\n",
              "    .dataframe thead th {\n",
              "        text-align: right;\n",
              "    }\n",
              "</style>\n",
              "<table border=\"1\" class=\"dataframe\">\n",
              "  <thead>\n",
              "    <tr style=\"text-align: right;\">\n",
              "      <th></th>\n",
              "      <th>text</th>\n",
              "      <th>label</th>\n",
              "    </tr>\n",
              "  </thead>\n",
              "  <tbody>\n",
              "    <tr>\n",
              "      <th>0</th>\n",
              "      <td>just got back from seeing  in burslem  amazing...</td>\n",
              "      <td>joy</td>\n",
              "    </tr>\n",
              "    <tr>\n",
              "      <th>1</th>\n",
              "      <td>oh dear an evening of absolute hilarity i don ...</td>\n",
              "      <td>joy</td>\n",
              "    </tr>\n",
              "    <tr>\n",
              "      <th>2</th>\n",
              "      <td>been waiting all week for this game  red_heart...</td>\n",
              "      <td>joy</td>\n",
              "    </tr>\n",
              "    <tr>\n",
              "      <th>3</th>\n",
              "      <td>thank you so much  gloria  you re so sweet ...</td>\n",
              "      <td>joy</td>\n",
              "    </tr>\n",
              "    <tr>\n",
              "      <th>4</th>\n",
              "      <td>i feel so blessed to work with the family that...</td>\n",
              "      <td>joy</td>\n",
              "    </tr>\n",
              "  </tbody>\n",
              "</table>\n",
              "</div>"
            ],
            "text/plain": [
              "                                                text label\n",
              "0  just got back from seeing  in burslem  amazing...   joy\n",
              "1  oh dear an evening of absolute hilarity i don ...   joy\n",
              "2  been waiting all week for this game  red_heart...   joy\n",
              "3     thank you so much  gloria  you re so sweet ...   joy\n",
              "4  i feel so blessed to work with the family that...   joy"
            ]
          },
          "metadata": {},
          "execution_count": 12
        }
      ]
    },
    {
      "cell_type": "code",
      "source": [
        "#Menghitung jumlah kata unik untuk menentukan jumlah features pada TF-IDF\n",
        "from collections import Counter\n",
        "\n",
        "array_text = ' '.join(data['text'].values)\n",
        "array_text = array_text.split()\n",
        "word_count = Counter(array_text)\n",
        "len(word_count)"
      ],
      "metadata": {
        "colab": {
          "base_uri": "https://localhost:8080/"
        },
        "id": "2XufAkXSvk0X",
        "outputId": "b16d0c21-9420-433b-8e31-5d14583a29df"
      },
      "execution_count": null,
      "outputs": [
        {
          "output_type": "execute_result",
          "data": {
            "text/plain": [
              "8365"
            ]
          },
          "metadata": {},
          "execution_count": 13
        }
      ]
    },
    {
      "cell_type": "code",
      "source": [
        "import sklearn\n",
        "from sklearn.feature_extraction.text import TfidfVectorizer\n",
        "\n",
        "#Term weighting dengan TFIDF, menggunakan 1000 features\n",
        "tfidf = TfidfVectorizer(sublinear_tf=True, max_features = 2000)\n",
        "feat = tfidf.fit_transform(data.text)"
      ],
      "metadata": {
        "id": "w91yI_aVwnmA"
      },
      "execution_count": null,
      "outputs": []
    },
    {
      "cell_type": "code",
      "source": [
        "#Hasil pembobotan setiap kata\n",
        "X = pd.DataFrame(feat.toarray(), columns=tfidf.get_feature_names())\n",
        "X.head()"
      ],
      "metadata": {
        "colab": {
          "base_uri": "https://localhost:8080/",
          "height": 255
        },
        "id": "WsJE-AaFzi2Q",
        "outputId": "84587af1-f11d-4c8d-f135-b0a4efb02b18"
      },
      "execution_count": null,
      "outputs": [
        {
          "output_type": "execute_result",
          "data": {
            "text/html": [
              "<div>\n",
              "<style scoped>\n",
              "    .dataframe tbody tr th:only-of-type {\n",
              "        vertical-align: middle;\n",
              "    }\n",
              "\n",
              "    .dataframe tbody tr th {\n",
              "        vertical-align: top;\n",
              "    }\n",
              "\n",
              "    .dataframe thead th {\n",
              "        text-align: right;\n",
              "    }\n",
              "</style>\n",
              "<table border=\"1\" class=\"dataframe\">\n",
              "  <thead>\n",
              "    <tr style=\"text-align: right;\">\n",
              "      <th></th>\n",
              "      <th>_hand_light_skin_tone</th>\n",
              "      <th>ability</th>\n",
              "      <th>able</th>\n",
              "      <th>abortion</th>\n",
              "      <th>about</th>\n",
              "      <th>above</th>\n",
              "      <th>absolute</th>\n",
              "      <th>absolutely</th>\n",
              "      <th>acc</th>\n",
              "      <th>accept</th>\n",
              "      <th>access</th>\n",
              "      <th>account</th>\n",
              "      <th>across</th>\n",
              "      <th>act</th>\n",
              "      <th>acting</th>\n",
              "      <th>action</th>\n",
              "      <th>actually</th>\n",
              "      <th>add</th>\n",
              "      <th>added</th>\n",
              "      <th>addiction</th>\n",
              "      <th>address</th>\n",
              "      <th>adrenaline</th>\n",
              "      <th>adult</th>\n",
              "      <th>adventure</th>\n",
              "      <th>af</th>\n",
              "      <th>affliction</th>\n",
              "      <th>afraid</th>\n",
              "      <th>after</th>\n",
              "      <th>afternoon</th>\n",
              "      <th>again</th>\n",
              "      <th>against</th>\n",
              "      <th>age</th>\n",
              "      <th>agent</th>\n",
              "      <th>ages</th>\n",
              "      <th>aggravate</th>\n",
              "      <th>ago</th>\n",
              "      <th>ahead</th>\n",
              "      <th>ahs</th>\n",
              "      <th>ain</th>\n",
              "      <th>air</th>\n",
              "      <th>...</th>\n",
              "      <th>working</th>\n",
              "      <th>world</th>\n",
              "      <th>worried</th>\n",
              "      <th>worry</th>\n",
              "      <th>worse</th>\n",
              "      <th>worst</th>\n",
              "      <th>worth</th>\n",
              "      <th>worthless</th>\n",
              "      <th>would</th>\n",
              "      <th>wouldn</th>\n",
              "      <th>wow</th>\n",
              "      <th>wrath</th>\n",
              "      <th>writing</th>\n",
              "      <th>wrong</th>\n",
              "      <th>wtf</th>\n",
              "      <th>wwe</th>\n",
              "      <th>xbox</th>\n",
              "      <th>xmas</th>\n",
              "      <th>xx</th>\n",
              "      <th>ya</th>\n",
              "      <th>yeah</th>\n",
              "      <th>year</th>\n",
              "      <th>years</th>\n",
              "      <th>yelling</th>\n",
              "      <th>yep</th>\n",
              "      <th>yes</th>\n",
              "      <th>yesterday</th>\n",
              "      <th>yet</th>\n",
              "      <th>yikes</th>\n",
              "      <th>yo</th>\n",
              "      <th>yoga</th>\n",
              "      <th>you</th>\n",
              "      <th>young</th>\n",
              "      <th>your</th>\n",
              "      <th>yourself</th>\n",
              "      <th>youtube</th>\n",
              "      <th>yr</th>\n",
              "      <th>yrs</th>\n",
              "      <th>zero</th>\n",
              "      <th>zombie</th>\n",
              "    </tr>\n",
              "  </thead>\n",
              "  <tbody>\n",
              "    <tr>\n",
              "      <th>0</th>\n",
              "      <td>0.0</td>\n",
              "      <td>0.0</td>\n",
              "      <td>0.0</td>\n",
              "      <td>0.0</td>\n",
              "      <td>0.0</td>\n",
              "      <td>0.0</td>\n",
              "      <td>0.000000</td>\n",
              "      <td>0.0</td>\n",
              "      <td>0.0</td>\n",
              "      <td>0.0</td>\n",
              "      <td>0.0</td>\n",
              "      <td>0.0</td>\n",
              "      <td>0.0</td>\n",
              "      <td>0.0</td>\n",
              "      <td>0.0</td>\n",
              "      <td>0.0</td>\n",
              "      <td>0.0</td>\n",
              "      <td>0.0</td>\n",
              "      <td>0.0</td>\n",
              "      <td>0.0</td>\n",
              "      <td>0.0</td>\n",
              "      <td>0.0</td>\n",
              "      <td>0.0</td>\n",
              "      <td>0.0</td>\n",
              "      <td>0.0</td>\n",
              "      <td>0.0</td>\n",
              "      <td>0.0</td>\n",
              "      <td>0.0</td>\n",
              "      <td>0.0</td>\n",
              "      <td>0.0</td>\n",
              "      <td>0.0</td>\n",
              "      <td>0.0</td>\n",
              "      <td>0.0</td>\n",
              "      <td>0.0</td>\n",
              "      <td>0.0</td>\n",
              "      <td>0.0</td>\n",
              "      <td>0.0</td>\n",
              "      <td>0.0</td>\n",
              "      <td>0.0</td>\n",
              "      <td>0.0</td>\n",
              "      <td>...</td>\n",
              "      <td>0.0</td>\n",
              "      <td>0.0</td>\n",
              "      <td>0.0</td>\n",
              "      <td>0.0</td>\n",
              "      <td>0.0</td>\n",
              "      <td>0.0</td>\n",
              "      <td>0.0</td>\n",
              "      <td>0.0</td>\n",
              "      <td>0.0</td>\n",
              "      <td>0.0</td>\n",
              "      <td>0.0</td>\n",
              "      <td>0.0</td>\n",
              "      <td>0.0</td>\n",
              "      <td>0.0</td>\n",
              "      <td>0.0</td>\n",
              "      <td>0.0</td>\n",
              "      <td>0.0</td>\n",
              "      <td>0.0</td>\n",
              "      <td>0.0</td>\n",
              "      <td>0.0</td>\n",
              "      <td>0.0</td>\n",
              "      <td>0.0</td>\n",
              "      <td>0.0</td>\n",
              "      <td>0.0</td>\n",
              "      <td>0.0</td>\n",
              "      <td>0.0</td>\n",
              "      <td>0.0</td>\n",
              "      <td>0.0</td>\n",
              "      <td>0.0</td>\n",
              "      <td>0.0</td>\n",
              "      <td>0.0</td>\n",
              "      <td>0.000000</td>\n",
              "      <td>0.0</td>\n",
              "      <td>0.0</td>\n",
              "      <td>0.0</td>\n",
              "      <td>0.0</td>\n",
              "      <td>0.0</td>\n",
              "      <td>0.0</td>\n",
              "      <td>0.0</td>\n",
              "      <td>0.0</td>\n",
              "    </tr>\n",
              "    <tr>\n",
              "      <th>1</th>\n",
              "      <td>0.0</td>\n",
              "      <td>0.0</td>\n",
              "      <td>0.0</td>\n",
              "      <td>0.0</td>\n",
              "      <td>0.0</td>\n",
              "      <td>0.0</td>\n",
              "      <td>0.343617</td>\n",
              "      <td>0.0</td>\n",
              "      <td>0.0</td>\n",
              "      <td>0.0</td>\n",
              "      <td>0.0</td>\n",
              "      <td>0.0</td>\n",
              "      <td>0.0</td>\n",
              "      <td>0.0</td>\n",
              "      <td>0.0</td>\n",
              "      <td>0.0</td>\n",
              "      <td>0.0</td>\n",
              "      <td>0.0</td>\n",
              "      <td>0.0</td>\n",
              "      <td>0.0</td>\n",
              "      <td>0.0</td>\n",
              "      <td>0.0</td>\n",
              "      <td>0.0</td>\n",
              "      <td>0.0</td>\n",
              "      <td>0.0</td>\n",
              "      <td>0.0</td>\n",
              "      <td>0.0</td>\n",
              "      <td>0.0</td>\n",
              "      <td>0.0</td>\n",
              "      <td>0.0</td>\n",
              "      <td>0.0</td>\n",
              "      <td>0.0</td>\n",
              "      <td>0.0</td>\n",
              "      <td>0.0</td>\n",
              "      <td>0.0</td>\n",
              "      <td>0.0</td>\n",
              "      <td>0.0</td>\n",
              "      <td>0.0</td>\n",
              "      <td>0.0</td>\n",
              "      <td>0.0</td>\n",
              "      <td>...</td>\n",
              "      <td>0.0</td>\n",
              "      <td>0.0</td>\n",
              "      <td>0.0</td>\n",
              "      <td>0.0</td>\n",
              "      <td>0.0</td>\n",
              "      <td>0.0</td>\n",
              "      <td>0.0</td>\n",
              "      <td>0.0</td>\n",
              "      <td>0.0</td>\n",
              "      <td>0.0</td>\n",
              "      <td>0.0</td>\n",
              "      <td>0.0</td>\n",
              "      <td>0.0</td>\n",
              "      <td>0.0</td>\n",
              "      <td>0.0</td>\n",
              "      <td>0.0</td>\n",
              "      <td>0.0</td>\n",
              "      <td>0.0</td>\n",
              "      <td>0.0</td>\n",
              "      <td>0.0</td>\n",
              "      <td>0.0</td>\n",
              "      <td>0.0</td>\n",
              "      <td>0.0</td>\n",
              "      <td>0.0</td>\n",
              "      <td>0.0</td>\n",
              "      <td>0.0</td>\n",
              "      <td>0.0</td>\n",
              "      <td>0.0</td>\n",
              "      <td>0.0</td>\n",
              "      <td>0.0</td>\n",
              "      <td>0.0</td>\n",
              "      <td>0.000000</td>\n",
              "      <td>0.0</td>\n",
              "      <td>0.0</td>\n",
              "      <td>0.0</td>\n",
              "      <td>0.0</td>\n",
              "      <td>0.0</td>\n",
              "      <td>0.0</td>\n",
              "      <td>0.0</td>\n",
              "      <td>0.0</td>\n",
              "    </tr>\n",
              "    <tr>\n",
              "      <th>2</th>\n",
              "      <td>0.0</td>\n",
              "      <td>0.0</td>\n",
              "      <td>0.0</td>\n",
              "      <td>0.0</td>\n",
              "      <td>0.0</td>\n",
              "      <td>0.0</td>\n",
              "      <td>0.000000</td>\n",
              "      <td>0.0</td>\n",
              "      <td>0.0</td>\n",
              "      <td>0.0</td>\n",
              "      <td>0.0</td>\n",
              "      <td>0.0</td>\n",
              "      <td>0.0</td>\n",
              "      <td>0.0</td>\n",
              "      <td>0.0</td>\n",
              "      <td>0.0</td>\n",
              "      <td>0.0</td>\n",
              "      <td>0.0</td>\n",
              "      <td>0.0</td>\n",
              "      <td>0.0</td>\n",
              "      <td>0.0</td>\n",
              "      <td>0.0</td>\n",
              "      <td>0.0</td>\n",
              "      <td>0.0</td>\n",
              "      <td>0.0</td>\n",
              "      <td>0.0</td>\n",
              "      <td>0.0</td>\n",
              "      <td>0.0</td>\n",
              "      <td>0.0</td>\n",
              "      <td>0.0</td>\n",
              "      <td>0.0</td>\n",
              "      <td>0.0</td>\n",
              "      <td>0.0</td>\n",
              "      <td>0.0</td>\n",
              "      <td>0.0</td>\n",
              "      <td>0.0</td>\n",
              "      <td>0.0</td>\n",
              "      <td>0.0</td>\n",
              "      <td>0.0</td>\n",
              "      <td>0.0</td>\n",
              "      <td>...</td>\n",
              "      <td>0.0</td>\n",
              "      <td>0.0</td>\n",
              "      <td>0.0</td>\n",
              "      <td>0.0</td>\n",
              "      <td>0.0</td>\n",
              "      <td>0.0</td>\n",
              "      <td>0.0</td>\n",
              "      <td>0.0</td>\n",
              "      <td>0.0</td>\n",
              "      <td>0.0</td>\n",
              "      <td>0.0</td>\n",
              "      <td>0.0</td>\n",
              "      <td>0.0</td>\n",
              "      <td>0.0</td>\n",
              "      <td>0.0</td>\n",
              "      <td>0.0</td>\n",
              "      <td>0.0</td>\n",
              "      <td>0.0</td>\n",
              "      <td>0.0</td>\n",
              "      <td>0.0</td>\n",
              "      <td>0.0</td>\n",
              "      <td>0.0</td>\n",
              "      <td>0.0</td>\n",
              "      <td>0.0</td>\n",
              "      <td>0.0</td>\n",
              "      <td>0.0</td>\n",
              "      <td>0.0</td>\n",
              "      <td>0.0</td>\n",
              "      <td>0.0</td>\n",
              "      <td>0.0</td>\n",
              "      <td>0.0</td>\n",
              "      <td>0.000000</td>\n",
              "      <td>0.0</td>\n",
              "      <td>0.0</td>\n",
              "      <td>0.0</td>\n",
              "      <td>0.0</td>\n",
              "      <td>0.0</td>\n",
              "      <td>0.0</td>\n",
              "      <td>0.0</td>\n",
              "      <td>0.0</td>\n",
              "    </tr>\n",
              "    <tr>\n",
              "      <th>3</th>\n",
              "      <td>0.0</td>\n",
              "      <td>0.0</td>\n",
              "      <td>0.0</td>\n",
              "      <td>0.0</td>\n",
              "      <td>0.0</td>\n",
              "      <td>0.0</td>\n",
              "      <td>0.000000</td>\n",
              "      <td>0.0</td>\n",
              "      <td>0.0</td>\n",
              "      <td>0.0</td>\n",
              "      <td>0.0</td>\n",
              "      <td>0.0</td>\n",
              "      <td>0.0</td>\n",
              "      <td>0.0</td>\n",
              "      <td>0.0</td>\n",
              "      <td>0.0</td>\n",
              "      <td>0.0</td>\n",
              "      <td>0.0</td>\n",
              "      <td>0.0</td>\n",
              "      <td>0.0</td>\n",
              "      <td>0.0</td>\n",
              "      <td>0.0</td>\n",
              "      <td>0.0</td>\n",
              "      <td>0.0</td>\n",
              "      <td>0.0</td>\n",
              "      <td>0.0</td>\n",
              "      <td>0.0</td>\n",
              "      <td>0.0</td>\n",
              "      <td>0.0</td>\n",
              "      <td>0.0</td>\n",
              "      <td>0.0</td>\n",
              "      <td>0.0</td>\n",
              "      <td>0.0</td>\n",
              "      <td>0.0</td>\n",
              "      <td>0.0</td>\n",
              "      <td>0.0</td>\n",
              "      <td>0.0</td>\n",
              "      <td>0.0</td>\n",
              "      <td>0.0</td>\n",
              "      <td>0.0</td>\n",
              "      <td>...</td>\n",
              "      <td>0.0</td>\n",
              "      <td>0.0</td>\n",
              "      <td>0.0</td>\n",
              "      <td>0.0</td>\n",
              "      <td>0.0</td>\n",
              "      <td>0.0</td>\n",
              "      <td>0.0</td>\n",
              "      <td>0.0</td>\n",
              "      <td>0.0</td>\n",
              "      <td>0.0</td>\n",
              "      <td>0.0</td>\n",
              "      <td>0.0</td>\n",
              "      <td>0.0</td>\n",
              "      <td>0.0</td>\n",
              "      <td>0.0</td>\n",
              "      <td>0.0</td>\n",
              "      <td>0.0</td>\n",
              "      <td>0.0</td>\n",
              "      <td>0.0</td>\n",
              "      <td>0.0</td>\n",
              "      <td>0.0</td>\n",
              "      <td>0.0</td>\n",
              "      <td>0.0</td>\n",
              "      <td>0.0</td>\n",
              "      <td>0.0</td>\n",
              "      <td>0.0</td>\n",
              "      <td>0.0</td>\n",
              "      <td>0.0</td>\n",
              "      <td>0.0</td>\n",
              "      <td>0.0</td>\n",
              "      <td>0.0</td>\n",
              "      <td>0.307429</td>\n",
              "      <td>0.0</td>\n",
              "      <td>0.0</td>\n",
              "      <td>0.0</td>\n",
              "      <td>0.0</td>\n",
              "      <td>0.0</td>\n",
              "      <td>0.0</td>\n",
              "      <td>0.0</td>\n",
              "      <td>0.0</td>\n",
              "    </tr>\n",
              "    <tr>\n",
              "      <th>4</th>\n",
              "      <td>0.0</td>\n",
              "      <td>0.0</td>\n",
              "      <td>0.0</td>\n",
              "      <td>0.0</td>\n",
              "      <td>0.0</td>\n",
              "      <td>0.0</td>\n",
              "      <td>0.000000</td>\n",
              "      <td>0.0</td>\n",
              "      <td>0.0</td>\n",
              "      <td>0.0</td>\n",
              "      <td>0.0</td>\n",
              "      <td>0.0</td>\n",
              "      <td>0.0</td>\n",
              "      <td>0.0</td>\n",
              "      <td>0.0</td>\n",
              "      <td>0.0</td>\n",
              "      <td>0.0</td>\n",
              "      <td>0.0</td>\n",
              "      <td>0.0</td>\n",
              "      <td>0.0</td>\n",
              "      <td>0.0</td>\n",
              "      <td>0.0</td>\n",
              "      <td>0.0</td>\n",
              "      <td>0.0</td>\n",
              "      <td>0.0</td>\n",
              "      <td>0.0</td>\n",
              "      <td>0.0</td>\n",
              "      <td>0.0</td>\n",
              "      <td>0.0</td>\n",
              "      <td>0.0</td>\n",
              "      <td>0.0</td>\n",
              "      <td>0.0</td>\n",
              "      <td>0.0</td>\n",
              "      <td>0.0</td>\n",
              "      <td>0.0</td>\n",
              "      <td>0.0</td>\n",
              "      <td>0.0</td>\n",
              "      <td>0.0</td>\n",
              "      <td>0.0</td>\n",
              "      <td>0.0</td>\n",
              "      <td>...</td>\n",
              "      <td>0.0</td>\n",
              "      <td>0.0</td>\n",
              "      <td>0.0</td>\n",
              "      <td>0.0</td>\n",
              "      <td>0.0</td>\n",
              "      <td>0.0</td>\n",
              "      <td>0.0</td>\n",
              "      <td>0.0</td>\n",
              "      <td>0.0</td>\n",
              "      <td>0.0</td>\n",
              "      <td>0.0</td>\n",
              "      <td>0.0</td>\n",
              "      <td>0.0</td>\n",
              "      <td>0.0</td>\n",
              "      <td>0.0</td>\n",
              "      <td>0.0</td>\n",
              "      <td>0.0</td>\n",
              "      <td>0.0</td>\n",
              "      <td>0.0</td>\n",
              "      <td>0.0</td>\n",
              "      <td>0.0</td>\n",
              "      <td>0.0</td>\n",
              "      <td>0.0</td>\n",
              "      <td>0.0</td>\n",
              "      <td>0.0</td>\n",
              "      <td>0.0</td>\n",
              "      <td>0.0</td>\n",
              "      <td>0.0</td>\n",
              "      <td>0.0</td>\n",
              "      <td>0.0</td>\n",
              "      <td>0.0</td>\n",
              "      <td>0.000000</td>\n",
              "      <td>0.0</td>\n",
              "      <td>0.0</td>\n",
              "      <td>0.0</td>\n",
              "      <td>0.0</td>\n",
              "      <td>0.0</td>\n",
              "      <td>0.0</td>\n",
              "      <td>0.0</td>\n",
              "      <td>0.0</td>\n",
              "    </tr>\n",
              "  </tbody>\n",
              "</table>\n",
              "<p>5 rows × 2000 columns</p>\n",
              "</div>"
            ],
            "text/plain": [
              "   _hand_light_skin_tone  ability  able  abortion  ...   yr  yrs  zero  zombie\n",
              "0                    0.0      0.0   0.0       0.0  ...  0.0  0.0   0.0     0.0\n",
              "1                    0.0      0.0   0.0       0.0  ...  0.0  0.0   0.0     0.0\n",
              "2                    0.0      0.0   0.0       0.0  ...  0.0  0.0   0.0     0.0\n",
              "3                    0.0      0.0   0.0       0.0  ...  0.0  0.0   0.0     0.0\n",
              "4                    0.0      0.0   0.0       0.0  ...  0.0  0.0   0.0     0.0\n",
              "\n",
              "[5 rows x 2000 columns]"
            ]
          },
          "metadata": {},
          "execution_count": 15
        }
      ]
    },
    {
      "cell_type": "code",
      "source": [
        "#Transform string label agar menjadi integer\n",
        "from sklearn.preprocessing import LabelEncoder\n",
        "le = LabelEncoder()\n",
        "y = le.fit_transform(data.label)\n",
        "y"
      ],
      "metadata": {
        "colab": {
          "base_uri": "https://localhost:8080/"
        },
        "id": "ZdvPPCbP0N_K",
        "outputId": "cb9cdab0-8f7d-457c-99c4-1ab3923e77f0"
      },
      "execution_count": null,
      "outputs": [
        {
          "output_type": "execute_result",
          "data": {
            "text/plain": [
              "array([2, 2, 2, ..., 3, 3, 3])"
            ]
          },
          "metadata": {},
          "execution_count": 16
        }
      ]
    },
    {
      "cell_type": "code",
      "source": [
        "#Melihat jumlah tiap label dengan menggunakan visualisasi\n",
        "labels = list(data['label'].value_counts().index)\n",
        "\n",
        "def showcountplot(plotuse,text=None,showtext = False):\n",
        "    if text==None:\n",
        "        text = []\n",
        "    plt.figure(figsize=(15,5))\n",
        "    ax = sns.countplot(plotuse,\n",
        "                       linewidth=1,\n",
        "                       edgecolor=sns.color_palette(\"husl\",4),\n",
        "                       order = plotuse.value_counts().index)\n",
        "    #Set a title\n",
        "    ax.set_title(f\"Count Plot of {plotuse.name}\")\n",
        "    #Create text\n",
        "    for index,value in enumerate(plotuse.value_counts()):\n",
        "        if text == []:\n",
        "            ax.set_xticklabels(\"\")\n",
        "        else:\n",
        "            ax.set_xticklabels(text,rotation=90) \n",
        "    #Show our plot\n",
        "    plt.show()\n",
        "\n",
        "showcountplot(data['label'],text=labels,showtext=True)"
      ],
      "metadata": {
        "colab": {
          "base_uri": "https://localhost:8080/",
          "height": 380
        },
        "id": "DfKSwHBw0j0I",
        "outputId": "9760c284-f480-47be-ed10-b247fe4ab946"
      },
      "execution_count": null,
      "outputs": [
        {
          "output_type": "display_data",
          "data": {
            "image/png": "[encoded data removed]",
            "text/plain": [
              "<Figure size 1080x360 with 1 Axes>"
            ]
          },
          "metadata": {
            "needs_background": "light"
          }
        }
      ]
    },
    {
      "cell_type": "code",
      "source": [
        "#Melakukan balancing data dengan algoritma SMOTE + TomekLinks\n",
        "from imblearn.combine import SMOTETomek\n",
        "\n",
        "st = SMOTETomek()\n",
        "X_st, y_st = st.fit_resample(X, y)\n",
        "print(\"SMOTE + TomekLinks\")\n",
        "print(f\"Shape dari y: {len(y_st)}, dimana jumlah : {Counter(y_st)}\")"
      ],
      "metadata": {
        "colab": {
          "base_uri": "https://localhost:8080/"
        },
        "id": "CD1XYid50oM7",
        "outputId": "ffa2867a-b7b9-4593-fe2e-92850b51d777"
      },
      "execution_count": null,
      "outputs": [
        {
          "output_type": "stream",
          "name": "stdout",
          "text": [
            "SMOTE + TomekLinks\n",
            "Shape dari y: 4582, dimana jumlah : Counter({2: 1146, 0: 1146, 1: 1145, 3: 1145})\n"
          ]
        }
      ]
    },
    {
      "cell_type": "markdown",
      "source": [
        "#Training, Mencari Model Terbaik antara Support Vector Machine dan Random Forest"
      ],
      "metadata": {
        "id": "QM8PKo4SDhTF"
      }
    },
    {
      "cell_type": "code",
      "source": [
        "from sklearn.metrics import confusion_matrix, classification_report\n",
        "from sklearn.metrics import mean_absolute_error as mae\n",
        "from sklearn.model_selection import cross_val_score\n",
        "\n",
        "from sklearn.svm import LinearSVC\n",
        "from sklearn.ensemble import RandomForestClassifier"
      ],
      "metadata": {
        "id": "a2QC4dfgwF2D"
      },
      "execution_count": null,
      "outputs": []
    },
    {
      "cell_type": "code",
      "source": [
        "# Support Vector Machines\n",
        "%%time\n",
        "clf_svm = LinearSVC(max_iter=10, random_state=42)\n",
        "score_svm = cross_val_score(clf_svm, X_st, y_st, cv=5, scoring='f1_macro')\n",
        "print('Score:', score_svm)"
      ],
      "metadata": {
        "colab": {
          "base_uri": "https://localhost:8080/"
        },
        "id": "O2fE6RKR1bxc",
        "outputId": "ecf0beb1-7f82-4aae-a14e-7025cf3c0d9e"
      },
      "execution_count": null,
      "outputs": [
        {
          "output_type": "stream",
          "name": "stdout",
          "text": [
            "Score: [0.88940062 0.89180684 0.88641842 0.8691483  0.92071947]\n",
            "CPU times: user 1.28 s, sys: 277 ms, total: 1.56 s\n",
            "Wall time: 1.6 s\n"
          ]
        }
      ]
    },
    {
      "cell_type": "code",
      "source": [
        "# Random Forest\n",
        "%%time\n",
        "clf_rf = RandomForestClassifier(random_state=42)\n",
        "score_rf = cross_val_score(clf_rf, X_st, y_st, cv=5, scoring='f1_macro')\n",
        "print('Score:', score_rf)"
      ],
      "metadata": {
        "colab": {
          "base_uri": "https://localhost:8080/"
        },
        "id": "LwKIjUjO8XAs",
        "outputId": "b72d480d-811c-4186-afda-a5d02dfdf10b"
      },
      "execution_count": null,
      "outputs": [
        {
          "output_type": "stream",
          "name": "stdout",
          "text": [
            "Score: [0.88360631 0.86464802 0.8413792  0.85411262 0.90359698]\n",
            "CPU times: user 32.5 s, sys: 355 ms, total: 32.9 s\n",
            "Wall time: 40.1 s\n"
          ]
        }
      ]
    },
    {
      "cell_type": "code",
      "source": [
        "#Model SVM dipilih karena komputasi yang lebih cepat dan sedikit lebih baik dan stabil dari RF\n",
        "from sklearn.model_selection import KFold, cross_validate\n",
        "from sklearn.metrics import make_scorer, accuracy_score, precision_score, recall_score, f1_score\n",
        "\n",
        "#Cross validate training model SVM\n",
        "svm = clf_svm.fit(X_st, y_st)\n",
        "kfold = KFold(n_splits=5, random_state=1234, shuffle = True)\n",
        "scoring = {'accuracy' : make_scorer(accuracy_score), \n",
        "           'precision' : make_scorer(precision_score, average = 'weighted'),\n",
        "           'recall' : make_scorer(recall_score, average = 'weighted'), \n",
        "           'f1_score' : make_scorer(f1_score, average = 'weighted'),\n",
        "           'mean_absolute_error' : make_scorer(mae)}\n",
        "\n",
        "results_svm = cross_validate(estimator=svm,X=X_st,\n",
        "                                          y=y_st,\n",
        "                                          cv=kfold,\n",
        "                                          scoring=scoring)\n",
        "result_df = pd.DataFrame(results_svm)\n",
        "result_df"
      ],
      "metadata": {
        "colab": {
          "base_uri": "https://localhost:8080/",
          "height": 206
        },
        "id": "dDGbj3Mn92qt",
        "outputId": "9d225e5e-c7e7-4979-fe40-650d2d16f4ca"
      },
      "execution_count": null,
      "outputs": [
        {
          "output_type": "execute_result",
          "data": {
            "text/html": [
              "<div>\n",
              "<style scoped>\n",
              "    .dataframe tbody tr th:only-of-type {\n",
              "        vertical-align: middle;\n",
              "    }\n",
              "\n",
              "    .dataframe tbody tr th {\n",
              "        vertical-align: top;\n",
              "    }\n",
              "\n",
              "    .dataframe thead th {\n",
              "        text-align: right;\n",
              "    }\n",
              "</style>\n",
              "<table border=\"1\" class=\"dataframe\">\n",
              "  <thead>\n",
              "    <tr style=\"text-align: right;\">\n",
              "      <th></th>\n",
              "      <th>fit_time</th>\n",
              "      <th>score_time</th>\n",
              "      <th>test_accuracy</th>\n",
              "      <th>test_precision</th>\n",
              "      <th>test_recall</th>\n",
              "      <th>test_f1_score</th>\n",
              "      <th>test_mean_absolute_error</th>\n",
              "    </tr>\n",
              "  </thead>\n",
              "  <tbody>\n",
              "    <tr>\n",
              "      <th>0</th>\n",
              "      <td>0.344114</td>\n",
              "      <td>0.092271</td>\n",
              "      <td>0.914940</td>\n",
              "      <td>0.914774</td>\n",
              "      <td>0.914940</td>\n",
              "      <td>0.914766</td>\n",
              "      <td>0.147219</td>\n",
              "    </tr>\n",
              "    <tr>\n",
              "      <th>1</th>\n",
              "      <td>0.370445</td>\n",
              "      <td>0.088871</td>\n",
              "      <td>0.920393</td>\n",
              "      <td>0.920583</td>\n",
              "      <td>0.920393</td>\n",
              "      <td>0.920349</td>\n",
              "      <td>0.114504</td>\n",
              "    </tr>\n",
              "    <tr>\n",
              "      <th>2</th>\n",
              "      <td>0.267389</td>\n",
              "      <td>0.056897</td>\n",
              "      <td>0.910480</td>\n",
              "      <td>0.910475</td>\n",
              "      <td>0.910480</td>\n",
              "      <td>0.910088</td>\n",
              "      <td>0.156114</td>\n",
              "    </tr>\n",
              "    <tr>\n",
              "      <th>3</th>\n",
              "      <td>0.267838</td>\n",
              "      <td>0.058686</td>\n",
              "      <td>0.906114</td>\n",
              "      <td>0.905941</td>\n",
              "      <td>0.906114</td>\n",
              "      <td>0.905993</td>\n",
              "      <td>0.160480</td>\n",
              "    </tr>\n",
              "    <tr>\n",
              "      <th>4</th>\n",
              "      <td>0.591920</td>\n",
              "      <td>0.063146</td>\n",
              "      <td>0.914847</td>\n",
              "      <td>0.915006</td>\n",
              "      <td>0.914847</td>\n",
              "      <td>0.914649</td>\n",
              "      <td>0.145197</td>\n",
              "    </tr>\n",
              "  </tbody>\n",
              "</table>\n",
              "</div>"
            ],
            "text/plain": [
              "   fit_time  score_time  ...  test_f1_score  test_mean_absolute_error\n",
              "0  0.344114    0.092271  ...       0.914766                  0.147219\n",
              "1  0.370445    0.088871  ...       0.920349                  0.114504\n",
              "2  0.267389    0.056897  ...       0.910088                  0.156114\n",
              "3  0.267838    0.058686  ...       0.905993                  0.160480\n",
              "4  0.591920    0.063146  ...       0.914649                  0.145197\n",
              "\n",
              "[5 rows x 7 columns]"
            ]
          },
          "metadata": {},
          "execution_count": 22
        }
      ]
    },
    {
      "cell_type": "markdown",
      "source": [
        "#Validation"
      ],
      "metadata": {
        "id": "5UPZSQYxyYcn"
      }
    },
    {
      "cell_type": "code",
      "source": [
        "#Validasi model degnan dataset khusus untuk validasi\n",
        "dataset_val = '/content/drive/My Drive/emotion-labels-val.csv'\n",
        "data_val = pd.read_csv(dataset_val)\n",
        "data_val"
      ],
      "metadata": {
        "colab": {
          "base_uri": "https://localhost:8080/",
          "height": 423
        },
        "id": "Xx8-GCogybGA",
        "outputId": "e7519229-5017-4556-cca4-25c1a3502f6b"
      },
      "execution_count": null,
      "outputs": [
        {
          "output_type": "execute_result",
          "data": {
            "text/html": [
              "<div>\n",
              "<style scoped>\n",
              "    .dataframe tbody tr th:only-of-type {\n",
              "        vertical-align: middle;\n",
              "    }\n",
              "\n",
              "    .dataframe tbody tr th {\n",
              "        vertical-align: top;\n",
              "    }\n",
              "\n",
              "    .dataframe thead th {\n",
              "        text-align: right;\n",
              "    }\n",
              "</style>\n",
              "<table border=\"1\" class=\"dataframe\">\n",
              "  <thead>\n",
              "    <tr style=\"text-align: right;\">\n",
              "      <th></th>\n",
              "      <th>text</th>\n",
              "      <th>label</th>\n",
              "    </tr>\n",
              "  </thead>\n",
              "  <tbody>\n",
              "    <tr>\n",
              "      <th>0</th>\n",
              "      <td>@theclobra lol I thought maybe, couldn't decid...</td>\n",
              "      <td>joy</td>\n",
              "    </tr>\n",
              "    <tr>\n",
              "      <th>1</th>\n",
              "      <td>Nawaz Sharif is getting more funnier than @kap...</td>\n",
              "      <td>joy</td>\n",
              "    </tr>\n",
              "    <tr>\n",
              "      <th>2</th>\n",
              "      <td>Nawaz Sharif is getting more funnier than @kap...</td>\n",
              "      <td>joy</td>\n",
              "    </tr>\n",
              "    <tr>\n",
              "      <th>3</th>\n",
              "      <td>@tomderivan73 😁...I'll just people watch and e...</td>\n",
              "      <td>joy</td>\n",
              "    </tr>\n",
              "    <tr>\n",
              "      <th>4</th>\n",
              "      <td>I love my family so much #lucky #grateful #sma...</td>\n",
              "      <td>joy</td>\n",
              "    </tr>\n",
              "    <tr>\n",
              "      <th>...</th>\n",
              "      <td>...</td>\n",
              "      <td>...</td>\n",
              "    </tr>\n",
              "    <tr>\n",
              "      <th>342</th>\n",
              "      <td>Common app just randomly logged me out as I wa...</td>\n",
              "      <td>sadness</td>\n",
              "    </tr>\n",
              "    <tr>\n",
              "      <th>343</th>\n",
              "      <td>I'd rather laugh with the rarest genius, in be...</td>\n",
              "      <td>sadness</td>\n",
              "    </tr>\n",
              "    <tr>\n",
              "      <th>344</th>\n",
              "      <td>If you #invest in my new #film I will stop ask...</td>\n",
              "      <td>sadness</td>\n",
              "    </tr>\n",
              "    <tr>\n",
              "      <th>345</th>\n",
              "      <td>Just watched Django Unchained, Other people ma...</td>\n",
              "      <td>sadness</td>\n",
              "    </tr>\n",
              "    <tr>\n",
              "      <th>346</th>\n",
              "      <td>@KeithOlbermann depressing how despicable Trum...</td>\n",
              "      <td>sadness</td>\n",
              "    </tr>\n",
              "  </tbody>\n",
              "</table>\n",
              "<p>347 rows × 2 columns</p>\n",
              "</div>"
            ],
            "text/plain": [
              "                                                  text    label\n",
              "0    @theclobra lol I thought maybe, couldn't decid...      joy\n",
              "1    Nawaz Sharif is getting more funnier than @kap...      joy\n",
              "2    Nawaz Sharif is getting more funnier than @kap...      joy\n",
              "3    @tomderivan73 😁...I'll just people watch and e...      joy\n",
              "4    I love my family so much #lucky #grateful #sma...      joy\n",
              "..                                                 ...      ...\n",
              "342  Common app just randomly logged me out as I wa...  sadness\n",
              "343  I'd rather laugh with the rarest genius, in be...  sadness\n",
              "344  If you #invest in my new #film I will stop ask...  sadness\n",
              "345  Just watched Django Unchained, Other people ma...  sadness\n",
              "346  @KeithOlbermann depressing how despicable Trum...  sadness\n",
              "\n",
              "[347 rows x 2 columns]"
            ]
          },
          "metadata": {},
          "execution_count": 23
        }
      ]
    },
    {
      "cell_type": "code",
      "source": [
        "#Pre-processing validation data\n",
        "SVC = clf_svm.fit(X_st, y_st)\n",
        "\n",
        "data_val['text'] = data_val['text'].apply([clean_text, removed_words])\n",
        "\n",
        "val_X = data_val.iloc[:,0].values\n",
        "val_y = data_val.iloc[:,-1].values\n",
        "val_X1 = tfidf.transform(val_X).toarray()\n",
        "val_y1 = le.transform(val_y)"
      ],
      "metadata": {
        "id": "qvbzbLgLymjv"
      },
      "execution_count": null,
      "outputs": []
    },
    {
      "cell_type": "code",
      "source": [
        "#Predict validation data\n",
        "Yval = SVC.predict(val_X1)\n",
        "print(classification_report(val_y1, Yval))\n",
        "print(confusion_matrix(val_y1, Yval))"
      ],
      "metadata": {
        "colab": {
          "base_uri": "https://localhost:8080/"
        },
        "id": "FFiziE6Jy8T3",
        "outputId": "ca0eaf3f-7972-442b-ca48-6997f8baef01"
      },
      "execution_count": null,
      "outputs": [
        {
          "output_type": "stream",
          "name": "stdout",
          "text": [
            "              precision    recall  f1-score   support\n",
            "\n",
            "           0       0.84      0.85      0.84        84\n",
            "           1       0.88      0.83      0.85       110\n",
            "           2       0.88      0.89      0.88        79\n",
            "           3       0.78      0.82      0.80        74\n",
            "\n",
            "    accuracy                           0.84       347\n",
            "   macro avg       0.84      0.85      0.84       347\n",
            "weighted avg       0.85      0.84      0.84       347\n",
            "\n",
            "[[71  2  4  7]\n",
            " [ 9 91  2  8]\n",
            " [ 2  5 70  2]\n",
            " [ 3  6  4 61]]\n"
          ]
        }
      ]
    },
    {
      "cell_type": "markdown",
      "source": [
        "#Predict"
      ],
      "metadata": {
        "id": "qNze9JbKmtcV"
      }
    },
    {
      "cell_type": "code",
      "source": [
        "#Memprediksi data pada dataset test\n",
        "dataset_test = '/content/drive/My Drive/emotion-labels-test.csv'\n",
        "data_test = pd.read_csv(dataset_test)\n",
        "data_test"
      ],
      "metadata": {
        "colab": {
          "base_uri": "https://localhost:8080/",
          "height": 423
        },
        "id": "AmkQwObldjc-",
        "outputId": "9c57f2f5-6ca3-4d10-a393-7b795335ca7b"
      },
      "execution_count": null,
      "outputs": [
        {
          "output_type": "execute_result",
          "data": {
            "text/html": [
              "<div>\n",
              "<style scoped>\n",
              "    .dataframe tbody tr th:only-of-type {\n",
              "        vertical-align: middle;\n",
              "    }\n",
              "\n",
              "    .dataframe tbody tr th {\n",
              "        vertical-align: top;\n",
              "    }\n",
              "\n",
              "    .dataframe thead th {\n",
              "        text-align: right;\n",
              "    }\n",
              "</style>\n",
              "<table border=\"1\" class=\"dataframe\">\n",
              "  <thead>\n",
              "    <tr style=\"text-align: right;\">\n",
              "      <th></th>\n",
              "      <th>text</th>\n",
              "      <th>label</th>\n",
              "    </tr>\n",
              "  </thead>\n",
              "  <tbody>\n",
              "    <tr>\n",
              "      <th>0</th>\n",
              "      <td>You must be knowing #blithe means (adj.)  Happ...</td>\n",
              "      <td>joy</td>\n",
              "    </tr>\n",
              "    <tr>\n",
              "      <th>1</th>\n",
              "      <td>Old saying 'A #smile shared is one gained for ...</td>\n",
              "      <td>joy</td>\n",
              "    </tr>\n",
              "    <tr>\n",
              "      <th>2</th>\n",
              "      <td>Bridget Jones' Baby was bloody hilarious 😅 #Br...</td>\n",
              "      <td>joy</td>\n",
              "    </tr>\n",
              "    <tr>\n",
              "      <th>3</th>\n",
              "      <td>@Elaminova sparkling water makes your life spa...</td>\n",
              "      <td>joy</td>\n",
              "    </tr>\n",
              "    <tr>\n",
              "      <th>4</th>\n",
              "      <td>I'm tired of everybody telling me to chill out...</td>\n",
              "      <td>joy</td>\n",
              "    </tr>\n",
              "    <tr>\n",
              "      <th>...</th>\n",
              "      <td>...</td>\n",
              "      <td>...</td>\n",
              "    </tr>\n",
              "    <tr>\n",
              "      <th>3137</th>\n",
              "      <td>Why does Candice constantly pout #GBBO 💄😒</td>\n",
              "      <td>sadness</td>\n",
              "    </tr>\n",
              "    <tr>\n",
              "      <th>3138</th>\n",
              "      <td>@redBus_in #unhappy with #redbus CC, when I ta...</td>\n",
              "      <td>sadness</td>\n",
              "    </tr>\n",
              "    <tr>\n",
              "      <th>3139</th>\n",
              "      <td>@AceOperative789 no pull him afew weeks ago, s...</td>\n",
              "      <td>sadness</td>\n",
              "    </tr>\n",
              "    <tr>\n",
              "      <th>3140</th>\n",
              "      <td>I'm buying art supplies and I'm debating how s...</td>\n",
              "      <td>sadness</td>\n",
              "    </tr>\n",
              "    <tr>\n",
              "      <th>3141</th>\n",
              "      <td>@sainsburys Could you ask your Chafford Hundre...</td>\n",
              "      <td>sadness</td>\n",
              "    </tr>\n",
              "  </tbody>\n",
              "</table>\n",
              "<p>3142 rows × 2 columns</p>\n",
              "</div>"
            ],
            "text/plain": [
              "                                                   text    label\n",
              "0     You must be knowing #blithe means (adj.)  Happ...      joy\n",
              "1     Old saying 'A #smile shared is one gained for ...      joy\n",
              "2     Bridget Jones' Baby was bloody hilarious 😅 #Br...      joy\n",
              "3     @Elaminova sparkling water makes your life spa...      joy\n",
              "4     I'm tired of everybody telling me to chill out...      joy\n",
              "...                                                 ...      ...\n",
              "3137          Why does Candice constantly pout #GBBO 💄😒  sadness\n",
              "3138  @redBus_in #unhappy with #redbus CC, when I ta...  sadness\n",
              "3139  @AceOperative789 no pull him afew weeks ago, s...  sadness\n",
              "3140  I'm buying art supplies and I'm debating how s...  sadness\n",
              "3141  @sainsburys Could you ask your Chafford Hundre...  sadness\n",
              "\n",
              "[3142 rows x 2 columns]"
            ]
          },
          "metadata": {},
          "execution_count": 26
        }
      ]
    },
    {
      "cell_type": "code",
      "source": [
        "#Pre-processing testing dataset\n",
        "data_test['text'] = data_test['text'].apply([clean_text, removed_words])\n",
        "\n",
        "test_X = data_test.iloc[:,0].values\n",
        "test_y = data_test.iloc[:,-1].values\n",
        "\n",
        "test_X1 = tfidf.transform(test_X).toarray()\n",
        "test_y1 = le.transform(test_y)"
      ],
      "metadata": {
        "id": "qv3X0eJ8ez-G"
      },
      "execution_count": null,
      "outputs": []
    },
    {
      "cell_type": "code",
      "source": [
        "#Memprediksi testing dataset\n",
        "Ypred = SVC.predict(test_X1)\n",
        "print(classification_report(test_y1, Ypred))\n",
        "print('mean absolute error:', mae(test_y1, Ypred))"
      ],
      "metadata": {
        "colab": {
          "base_uri": "https://localhost:8080/"
        },
        "id": "939BFcPfnZtv",
        "outputId": "f5363ea2-3bc8-4c79-ccf2-f5ff58d711fc"
      },
      "execution_count": null,
      "outputs": [
        {
          "output_type": "stream",
          "name": "stdout",
          "text": [
            "              precision    recall  f1-score   support\n",
            "\n",
            "           0       0.76      0.81      0.79       760\n",
            "           1       0.83      0.75      0.79       995\n",
            "           2       0.84      0.85      0.85       714\n",
            "           3       0.73      0.78      0.76       673\n",
            "\n",
            "    accuracy                           0.79      3142\n",
            "   macro avg       0.79      0.80      0.79      3142\n",
            "weighted avg       0.80      0.79      0.79      3142\n",
            "\n",
            "mean absolute error: 0.354551241247613\n"
          ]
        }
      ]
    },
    {
      "cell_type": "code",
      "source": [
        "#Menampilkan confusiom matrix dari hasil test Linear SVM\n",
        "\n",
        "y1 = le.inverse_transform(test_y1)\n",
        "label = pd.DataFrame(data={'Label_Encoder':test_y1, 'label':y1})\n",
        "label_df = label.drop_duplicates()\n",
        "label_df = label_df.sort_values(by='Label_Encoder', ascending=True)\n",
        "label_df = label_df.reset_index(drop=True)\n",
        "\n",
        "cm_svm = confusion_matrix(test_y1, Ypred)\n",
        "plt.subplots(figsize=(12,8))\n",
        "sns.heatmap(pd.DataFrame(cm_svm), annot=True, cmap=\"YlGnBu\",\n",
        "            fmt='g', yticklabels=label_df['label'], xticklabels=label_df['label'])\n",
        "plt.title('Confusion Matrix for SVM')\n",
        "plt.ylabel('Actual Label')\n",
        "plt.xlabel('Predicted Label')\n",
        "plt.show()"
      ],
      "metadata": {
        "colab": {
          "base_uri": "https://localhost:8080/",
          "height": 513
        },
        "id": "lcik3zVfqhHL",
        "outputId": "1df849c4-626b-4b76-c1d7-112e43ac9be3"
      },
      "execution_count": null,
      "outputs": [
        {
          "output_type": "display_data",
          "data": {
            "image/png": "[encoded data removed]",
            "text/plain": [
              "<Figure size 864x576 with 2 Axes>"
            ]
          },
          "metadata": {
            "needs_background": "light"
          }
        }
      ]
    }
  ]
}